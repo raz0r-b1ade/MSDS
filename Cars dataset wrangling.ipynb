{
 "cells": [
  {
   "cell_type": "markdown",
   "source": [
    "# Exploratory Data Analysis of YallaMotors Cars Dataset\n",
    "\n",
    "This notebook performs exploratory data analysis on the YallaMotors Cars Dataset. The dataset contains information about various cars, including their specifications, prices, and other relevant features."
   ],
   "metadata": {
    "collapsed": false
   }
  },
  {
   "cell_type": "code",
   "execution_count": 1,
   "outputs": [],
   "source": [
    "#import necessary libraries\n",
    "import re\n",
    "import pandas as pd\n",
    "import opendatasets as od"
   ],
   "metadata": {
    "collapsed": false
   }
  },
  {
   "cell_type": "markdown",
   "source": [
    "# About this file\n",
    "\n",
    "This dataset was scraped from the YallaMotors website using Python and Requests-HTML. It consists of approximately 6750 rows and 9 columns, making it suitable for conducting Exploratory Data Analysis and applying Machine Learning algorithms such as Linear Regression and so on.\n",
    "\n",
    "The dataset contains the following columns:\n",
    "* Car Name: The name of the car.\n",
    "* Price: The price of the car.\n",
    "* Engine Capacity: The engine capacity of the car.\n",
    "* Cylinder: The power of the car's cylinder.\n",
    "* Horse Power: The horse power of the car.\n",
    "* Top Speed: The top speed of the car.\n",
    "* Seats: The number of seats in the car.\n",
    "* Brand: The brand of the car.\n",
    "* Country: The country in which the website sells this car.\n",
    "\n",
    "With this dataset, you can explore various aspects of the cars, analyze their features, and perform tasks like predicting the car price using machine learning algorithms.\n",
    "This dataset provides a valuable resource for conducting detailed analysis and gaining insights into the car market."
   ],
   "metadata": {
    "collapsed": false
   }
  },
  {
   "cell_type": "code",
   "execution_count": 2,
   "outputs": [
    {
     "name": "stdout",
     "output_type": "stream",
     "text": [
      "Downloading yallamotors-cars-dataset.zip to .\\yallamotors-cars-dataset\n"
     ]
    },
    {
     "name": "stderr",
     "output_type": "stream",
     "text": [
      "100%|██████████| 111k/111k [00:00<00:00, 310kB/s]"
     ]
    },
    {
     "name": "stdout",
     "output_type": "stream",
     "text": [
      "\n"
     ]
    },
    {
     "name": "stderr",
     "output_type": "stream",
     "text": [
      "\n"
     ]
    }
   ],
   "source": [
    "# download the dataset (this is a Kaggle dataset)\n",
    "# during download you will be required to input your Kaggle username and password\n",
    "od.download(\"https://www.kaggle.com/datasets/mahmoudahmed6/yallamotors-cars-dataset\", force=True)"
   ],
   "metadata": {
    "collapsed": false
   }
  },
  {
   "cell_type": "markdown",
   "source": [
    "After reading the CSV file and loading it into a DataFrame, let's explore the dataset to gain initial insights into the data.\n",
    "\n",
    "The dataset consists of cars with various attributes, including the car name, price, engine capacity, cylinder power, horse power, top speed, number of seats, brand, and country. It contains around 6,308 rows, each representing a car entry.\n",
    "\n",
    "Let's take a look at the first few and last rows of the dataset:"
   ],
   "metadata": {
    "collapsed": false
   }
  },
  {
   "cell_type": "code",
   "execution_count": 3,
   "outputs": [
    {
     "data": {
      "text/plain": "                                               car name                 price  \\\n0                               Fiat 500e 2021 La Prima                   TBD   \n1                         Peugeot Traveller 2021 L3 VIP           SAR 140,575   \n2                      Suzuki Jimny 2021 1.5L Automatic            SAR 98,785   \n3                        Ford Bronco 2021 2.3T Big Bend           SAR 198,000   \n4                         Honda HR-V 2021 1.8 i-VTEC LX  Orangeburst Metallic   \n...                                                 ...                   ...   \n6303  Bentley Mulsanne 2021 6.75L V8 Extended Wheelbase          DISCONTINUED   \n6304  Ferrari SF90 Stradale 2021 4.0T V8 Plug-in-Hybrid         AED 1,766,100   \n6305                  Rolls Royce Wraith 2021 6.6L Base         AED 1,400,000   \n6306        Lamborghini Aventador S 2021 6.5L V12 Coupe         AED 1,650,000   \n6307               Bentley Mulsanne 2021 6.75L V8 Speed          DISCONTINUED   \n\n     engine_capacity       cylinder horse_power  top_speed      seats  \\\n0                0.0  N/A, Electric      Single  Automatic        150   \n1                2.0              4         180   8 Seater        8.8   \n2                1.5              4         102        145   4 Seater   \n3                2.3              4         420   4 Seater        7.5   \n4                1.8              4         140        190   5 Seater   \n...              ...            ...         ...        ...        ...   \n6303             6.8              8         505        296   5 Seater   \n6304             4.0              8          25        800  Automatic   \n6305             6.6             12         624        250   4 Seater   \n6306             6.5            NaN         740        350   2 Seater   \n6307             6.8              8         530        305   5 Seater   \n\n            brand country  \n0            fiat     ksa  \n1         peugeot     ksa  \n2          suzuki     ksa  \n3            ford     ksa  \n4           honda     ksa  \n...           ...     ...  \n6303      bentley     uae  \n6304      ferrari     uae  \n6305  rolls-royce     uae  \n6306  lamborghini     uae  \n6307      bentley     uae  \n\n[6308 rows x 9 columns]",
      "text/html": "<div>\n<style scoped>\n    .dataframe tbody tr th:only-of-type {\n        vertical-align: middle;\n    }\n\n    .dataframe tbody tr th {\n        vertical-align: top;\n    }\n\n    .dataframe thead th {\n        text-align: right;\n    }\n</style>\n<table border=\"1\" class=\"dataframe\">\n  <thead>\n    <tr style=\"text-align: right;\">\n      <th></th>\n      <th>car name</th>\n      <th>price</th>\n      <th>engine_capacity</th>\n      <th>cylinder</th>\n      <th>horse_power</th>\n      <th>top_speed</th>\n      <th>seats</th>\n      <th>brand</th>\n      <th>country</th>\n    </tr>\n  </thead>\n  <tbody>\n    <tr>\n      <th>0</th>\n      <td>Fiat 500e 2021 La Prima</td>\n      <td>TBD</td>\n      <td>0.0</td>\n      <td>N/A, Electric</td>\n      <td>Single</td>\n      <td>Automatic</td>\n      <td>150</td>\n      <td>fiat</td>\n      <td>ksa</td>\n    </tr>\n    <tr>\n      <th>1</th>\n      <td>Peugeot Traveller 2021 L3 VIP</td>\n      <td>SAR 140,575</td>\n      <td>2.0</td>\n      <td>4</td>\n      <td>180</td>\n      <td>8 Seater</td>\n      <td>8.8</td>\n      <td>peugeot</td>\n      <td>ksa</td>\n    </tr>\n    <tr>\n      <th>2</th>\n      <td>Suzuki Jimny 2021 1.5L Automatic</td>\n      <td>SAR 98,785</td>\n      <td>1.5</td>\n      <td>4</td>\n      <td>102</td>\n      <td>145</td>\n      <td>4 Seater</td>\n      <td>suzuki</td>\n      <td>ksa</td>\n    </tr>\n    <tr>\n      <th>3</th>\n      <td>Ford Bronco 2021 2.3T Big Bend</td>\n      <td>SAR 198,000</td>\n      <td>2.3</td>\n      <td>4</td>\n      <td>420</td>\n      <td>4 Seater</td>\n      <td>7.5</td>\n      <td>ford</td>\n      <td>ksa</td>\n    </tr>\n    <tr>\n      <th>4</th>\n      <td>Honda HR-V 2021 1.8 i-VTEC LX</td>\n      <td>Orangeburst Metallic</td>\n      <td>1.8</td>\n      <td>4</td>\n      <td>140</td>\n      <td>190</td>\n      <td>5 Seater</td>\n      <td>honda</td>\n      <td>ksa</td>\n    </tr>\n    <tr>\n      <th>...</th>\n      <td>...</td>\n      <td>...</td>\n      <td>...</td>\n      <td>...</td>\n      <td>...</td>\n      <td>...</td>\n      <td>...</td>\n      <td>...</td>\n      <td>...</td>\n    </tr>\n    <tr>\n      <th>6303</th>\n      <td>Bentley Mulsanne 2021 6.75L V8 Extended Wheelbase</td>\n      <td>DISCONTINUED</td>\n      <td>6.8</td>\n      <td>8</td>\n      <td>505</td>\n      <td>296</td>\n      <td>5 Seater</td>\n      <td>bentley</td>\n      <td>uae</td>\n    </tr>\n    <tr>\n      <th>6304</th>\n      <td>Ferrari SF90 Stradale 2021 4.0T V8 Plug-in-Hybrid</td>\n      <td>AED 1,766,100</td>\n      <td>4.0</td>\n      <td>8</td>\n      <td>25</td>\n      <td>800</td>\n      <td>Automatic</td>\n      <td>ferrari</td>\n      <td>uae</td>\n    </tr>\n    <tr>\n      <th>6305</th>\n      <td>Rolls Royce Wraith 2021 6.6L Base</td>\n      <td>AED 1,400,000</td>\n      <td>6.6</td>\n      <td>12</td>\n      <td>624</td>\n      <td>250</td>\n      <td>4 Seater</td>\n      <td>rolls-royce</td>\n      <td>uae</td>\n    </tr>\n    <tr>\n      <th>6306</th>\n      <td>Lamborghini Aventador S 2021 6.5L V12 Coupe</td>\n      <td>AED 1,650,000</td>\n      <td>6.5</td>\n      <td>NaN</td>\n      <td>740</td>\n      <td>350</td>\n      <td>2 Seater</td>\n      <td>lamborghini</td>\n      <td>uae</td>\n    </tr>\n    <tr>\n      <th>6307</th>\n      <td>Bentley Mulsanne 2021 6.75L V8 Speed</td>\n      <td>DISCONTINUED</td>\n      <td>6.8</td>\n      <td>8</td>\n      <td>530</td>\n      <td>305</td>\n      <td>5 Seater</td>\n      <td>bentley</td>\n      <td>uae</td>\n    </tr>\n  </tbody>\n</table>\n<p>6308 rows × 9 columns</p>\n</div>"
     },
     "execution_count": 3,
     "metadata": {},
     "output_type": "execute_result"
    }
   ],
   "source": [
    "# Read the CSV file into a DataFrame and display it\n",
    "df = pd.read_csv('./yallamotors-cars-dataset/cars.csv')\n",
    "df"
   ],
   "metadata": {
    "collapsed": false
   }
  },
  {
   "cell_type": "markdown",
   "source": [
    "# Data Information\n",
    "To gain a deeper understanding of the dataset, let's examine its information using the info() method. This will provide us with essential details about the DataFrame, including the column names, data types, and the number of non-null values."
   ],
   "metadata": {
    "collapsed": false
   }
  },
  {
   "cell_type": "code",
   "execution_count": 4,
   "outputs": [
    {
     "name": "stdout",
     "output_type": "stream",
     "text": [
      "<class 'pandas.core.frame.DataFrame'>\n",
      "RangeIndex: 6308 entries, 0 to 6307\n",
      "Data columns (total 9 columns):\n",
      " #   Column           Non-Null Count  Dtype \n",
      "---  ------           --------------  ----- \n",
      " 0   car name         6308 non-null   object\n",
      " 1   price            6308 non-null   object\n",
      " 2   engine_capacity  6308 non-null   object\n",
      " 3   cylinder         5684 non-null   object\n",
      " 4   horse_power      6308 non-null   object\n",
      " 5   top_speed        6308 non-null   object\n",
      " 6   seats            6308 non-null   object\n",
      " 7   brand            6308 non-null   object\n",
      " 8   country          6308 non-null   object\n",
      "dtypes: object(9)\n",
      "memory usage: 443.7+ KB\n"
     ]
    }
   ],
   "source": [
    "# Display information about the DataFrame\n",
    "df.info()"
   ],
   "metadata": {
    "collapsed": false
   }
  },
  {
   "cell_type": "markdown",
   "source": [
    "From the information provided, we can observe the following:\n",
    "\n",
    "* The dataset contains 6,308 entries (rows) and 9 columns.\n",
    "* The column \"Price\" is currently stored as an object (string) type, which may contain a combination of text and numbers.\n",
    "* The \"Engine Capacity\", \"Cylinder\", \"Horse Power\", \"Top Speed\", and \"Seats\" columns are also stored as object types, even though they should ideally be numerical.\n",
    "* There are some missing values in the \"Engine Capacity\", \"Cylinder\", \"Horse Power\", and \"Top Speed\" columns, as indicated by the non-null counts.\n",
    "* The \"Engine Capacity\" and \"Top Speed\" columns have float64 data types, indicating that they already contain numerical values.\n",
    "\n",
    "This initial data overview highlights some data quality issues and potential areas for data cleaning and preprocessing."
   ],
   "metadata": {
    "collapsed": false
   }
  },
  {
   "cell_type": "markdown",
   "source": [
    "# Data wrangling nad basic feature engineering\n",
    "\n",
    "To enhance the analysis and enable comparisons, we can convert the prices from various currencies to USD. The code provided performs the following steps:\n",
    "\n",
    "* A dictionary, currency_rates, is defined to store the conversion rates from different currencies to USD.\n",
    "* Two functions, extract_currency(price) and extract_price(price), are defined to extract the currency and price value from the original \"Price\" column, respectively.\n",
    "* The function convert_to_usd(price, currency) converts the extracted price to USD based on the provided currency and conversion rate from the currency_rates dictionary.\n",
    "* Three new columns are created in the DataFrame:\n",
    "* \"currency\" stores the extracted currency values.\n",
    "* \"price_currency\" contains the extracted price values.\n",
    "* \"price_USD\" holds the converted price values in USD.\n",
    "\n",
    "To facilitate further analysis and eliminate redundancy, we can drop the initial \"Price\" column from the DataFrame."
   ],
   "metadata": {
    "collapsed": false
   }
  },
  {
   "cell_type": "markdown",
   "source": [
    "To further prepare the dataset for exploratory analysis, the code provided includes the following steps:\n",
    "\n",
    "* The function extract_seats(value) is defined to extract the number of seats from the \"seats\" column. It searches for a pattern that matches a number followed by the word \"seater\" (e.g., \"8 seater\"). If a match is found, the function returns the extracted number as an integer. Otherwise, it returns None.\n",
    "* The function is applied to the \"seats\" column using the apply method, and the results are stored in a new column called \"seats\".\n",
    "* The columns 'engine_capacity', 'cylinder', 'horse_power', and 'top_speed' are converted to numeric format using the pd.to_numeric function. The errors='coerce' parameter is used to handle any non-numeric values by converting them to NaN (Not a Number).\n",
    "* The info() method is then called to display information about the DataFrame, including the data types and the number of non-null values in each column.\n",
    "\n",
    "After performing these conversions, we can ensure that the numeric columns are in the correct format for further analysis."
   ],
   "metadata": {
    "collapsed": false
   }
  },
  {
   "cell_type": "code",
   "execution_count": 5,
   "outputs": [
    {
     "name": "stdout",
     "output_type": "stream",
     "text": [
      "<class 'pandas.core.frame.DataFrame'>\n",
      "RangeIndex: 6308 entries, 0 to 6307\n",
      "Data columns (total 12 columns):\n",
      " #   Column           Non-Null Count  Dtype  \n",
      "---  ------           --------------  -----  \n",
      " 0   car name         6308 non-null   object \n",
      " 1   price            6308 non-null   object \n",
      " 2   engine_capacity  6305 non-null   float64\n",
      " 3   cylinder         5574 non-null   float64\n",
      " 4   horse_power      6186 non-null   float64\n",
      " 5   top_speed        5875 non-null   float64\n",
      " 6   seats            5789 non-null   float64\n",
      " 7   brand            6308 non-null   object \n",
      " 8   country          6308 non-null   object \n",
      " 9   currency         4979 non-null   object \n",
      " 10  price_currency   4985 non-null   float64\n",
      " 11  price_USD        4979 non-null   float64\n",
      "dtypes: float64(7), object(5)\n",
      "memory usage: 591.5+ KB\n"
     ]
    }
   ],
   "source": [
    "# Define currency conversion rates to USD\n",
    "currency_rates = {\n",
    "    'AED': 0.27,   # UAE Dirham\n",
    "    'BHD': 2.65,   # Bahraini Dinar\n",
    "    'EGP': 0.064,  # Egyptian Pound\n",
    "    'KWD': 3.32,   # Kuwaiti Dinar\n",
    "    'OMR': 2.60,   # Omani Rial\n",
    "    'QAR': 0.27,   # Qatari Rial\n",
    "    'SAR': 0.27    # Saudi Rial\n",
    "}\n",
    "\n",
    "# Function to extract currency from price\n",
    "def extract_currency(price):\n",
    "    match = re.search(r'([a-zA-Z]{3})', price)\n",
    "    if match:\n",
    "        currency = match.group(1)\n",
    "        if currency in currency_rates:\n",
    "            return currency\n",
    "    return\n",
    "\n",
    "# Function to extract price from price\n",
    "def extract_price(price):\n",
    "    match = re.search(r'\\d+(,\\d+)?', price)\n",
    "    if match:\n",
    "        return float(match.group(0).replace(',', ''))\n",
    "    return\n",
    "\n",
    "# Function to convert price to USD\n",
    "def convert_to_usd(price, currency):\n",
    "    if currency and currency != 'USD' and currency in currency_rates:\n",
    "        conversion_rate = currency_rates[currency]\n",
    "        return round(price * conversion_rate, 2)\n",
    "    return\n",
    "\n",
    "# Create new columns for currency and price\n",
    "df['currency'] = df['price'].apply(extract_currency)\n",
    "df['price_currency'] = df['price'].apply(extract_price)\n",
    "\n",
    "# Convert price to USD\n",
    "df['price_USD'] = df.apply(lambda row: convert_to_usd(row['price_currency'], row['currency']), axis=1)\n",
    "\n",
    "# Function to extract the number of seats\n",
    "def extract_seats(value):\n",
    "    if isinstance(value, str):\n",
    "        match = re.search(r'\\b(\\d+)\\s*seater\\b', value, re.IGNORECASE)\n",
    "        if match:\n",
    "            return int(match.group(1))\n",
    "    return None\n",
    "\n",
    "# Apply the function to the \"seats\" column\n",
    "df['seats'] = df['seats'].apply(extract_seats)\n",
    "\n",
    "# Convert 'engine_capacity' column to numeric\n",
    "df['engine_capacity'] = pd.to_numeric(df['engine_capacity'], errors='coerce')\n",
    "\n",
    "# Convert 'cylinder' column to numeric (assuming missing values should be NaN)\n",
    "df['cylinder'] = pd.to_numeric(df['cylinder'], errors='coerce')\n",
    "\n",
    "# Convert 'horse_power' column to numeric\n",
    "df['horse_power'] = pd.to_numeric(df['horse_power'], errors='coerce')\n",
    "\n",
    "# Convert 'top_speed' column to numeric\n",
    "df['top_speed'] = pd.to_numeric(df['top_speed'], errors='coerce')\n",
    "df.info()"
   ],
   "metadata": {
    "collapsed": false
   }
  },
  {
   "cell_type": "markdown",
   "source": [
    "The current DataFrame information shows that after the data conversions and cleaning steps, the dataset contains 6308 rows and 12 columns. Here is a summary of the columns and their respective non-null counts and data types.\n",
    "Upon examining the DataFrame, we can observe the following information:\n",
    "\n",
    "* The column 'car name' contains 6308 non-null values, indicating that all rows have a car name entry.\n",
    "* The column 'price' also contains 6308 non-null values, indicating that all rows have a price entry.\n",
    "* The column 'engine_capacity' has 6305 non-null values, implying that there are three missing values in this column.\n",
    "* The column 'cylinder' has 5574 non-null values, suggesting that there are 734 missing values in this column.\n",
    "* The column 'horse_power' has 6186 non-null values, indicating that there are 122 missing values in this column.\n",
    "* The column 'top_speed' has 5875 non-null values, implying that there are 433 missing values in this column.\n",
    "* The column 'seats' has 5789 non-null values, indicating that there are 519 missing values in this column.\n",
    "* The columns 'brand' and 'country' contain 6308 non-null values, indicating that there are no missing values in these columns.\n",
    "* The columns 'currency', 'price_currency', and 'price_USD' have missing values, with 4979 non-null values in each column.\n",
    "\n",
    "This information provides an overview of the missing values present in the DataFrame, which can be further analyzed and addressed in the data exploration and cleaning process."
   ],
   "metadata": {
    "collapsed": false
   }
  },
  {
   "cell_type": "code",
   "execution_count": 6,
   "outputs": [
    {
     "data": {
      "text/plain": "car name              0\nprice                 0\nengine_capacity       3\ncylinder            734\nhorse_power         122\ntop_speed           433\nseats               519\nbrand                 0\ncountry               0\ncurrency           1329\nprice_currency     1323\nprice_USD          1329\ndtype: int64"
     },
     "execution_count": 6,
     "metadata": {},
     "output_type": "execute_result"
    }
   ],
   "source": [
    "# Check the number of missing values in each column\n",
    "df.isnull().sum()"
   ],
   "metadata": {
    "collapsed": false
   }
  },
  {
   "cell_type": "markdown",
   "source": [
    "To deal with missing data, we have several options:\n",
    "\n",
    "1. Dropping data:\n",
    "\n",
    "* Dropping the whole row: This method involves removing rows that contain missing values. It can be applied when the missing values are limited to a few rows and do not significantly impact the overall dataset. In our case, we can choose to drop specific rows if they have missing values in crucial columns.\n",
    "* Dropping the whole column: This method involves removing columns that have a significant number of missing values. It is suitable when a column has a large proportion of missing values and does not provide valuable information. However, in our dataset, none of the columns have a high number of missing values, so dropping entire columns is not necessary.\n",
    "\n",
    "2. Replacing data:\n",
    "\n",
    "* Replacing missing values with the mean:\n",
    "\n",
    "    This method involves replacing missing values with the mean value of the respective column. It can be applied to numeric columns where the mean value is a reasonable estimate. In our code, we haven't used this method.\n",
    "\n",
    "* Replacing missing values with the frequency: This method involves replacing missing values with the most frequent value in the respective column. It can be applied to categorical columns where the most frequent value represents a reasonable estimate. In our code, we haven't used this method.\n",
    "\n",
    "* Replacing missing values based on other functions:\n",
    "\n",
    "    This method involves replacing missing values using other techniques, such as interpolation, regression models, or domain-specific knowledge. The choice of replacement method depends on the specific context and the characteristics of the data. In our code, we'll use this method later."
   ],
   "metadata": {
    "collapsed": false
   }
  },
  {
   "cell_type": "markdown",
   "source": [
    "We performed the following actions:\n",
    "\n",
    "* Drop the column \"price\":\n",
    "\n",
    "Since we have already converted the price to separate columns for currency and USD, the original \"price\" column becomes redundant. We dropped it using the drop() function with axis=1 to indicate a column-wise operation.\n",
    "\n",
    "* Drop rows with missing values:\n",
    "\n",
    "We dropped rows with missing values in the \"price_USD\" column because those rows do not provide useful information for our analysis.\n",
    "We also dropped rows with missing values in the \"seats\", \"engine_capacity\", \"cylinder\", \"horse_power\", and \"top_speed\" columns. Since these are critical characteristics of the cars and we cannot reasonably estimate or replace missing values for them, it is more appropriate to remove the rows with missing data.\n",
    "\n",
    "After performing these actions, we checked for missing values again using isnull().sum(). The output would show the number of missing values in each column. Since all the columns in the output have zero missing values, it indicates that we have successfully dropped the rows with missing data.\n",
    "\n",
    "The rationale behind these actions is as follows:\n",
    "\n",
    "* The \"price\" column becomes redundant after extracting the separate columns for currency and USD.\n",
    "* Rows without price in USD are not useful for our analysis, so we can safely drop them.\n",
    "* The remaining numeric characteristics (seats, engine capacity, cylinder, horse power, top speed) are essential attributes of the cars, and since we cannot reliably estimate or replace missing values for them, it is more appropriate to drop the rows with missing data.\n",
    "\n",
    "By dropping the irrelevant column and the rows with missing values, we ensure that our dataset contains only relevant and complete information for further analysis."
   ],
   "metadata": {
    "collapsed": false
   }
  },
  {
   "cell_type": "code",
   "execution_count": 7,
   "outputs": [
    {
     "data": {
      "text/plain": "car name           0\nengine_capacity    0\ncylinder           0\nhorse_power        0\ntop_speed          0\nseats              0\nbrand              0\ncountry            0\ncurrency           0\nprice_currency     0\nprice_USD          0\ndtype: int64"
     },
     "execution_count": 7,
     "metadata": {},
     "output_type": "execute_result"
    }
   ],
   "source": [
    "# Drop the column \"price\" from the DataFrame\n",
    "df.drop(\"price\", axis=1, inplace=True)\n",
    "\n",
    "# Drop rows with missing values in the \"price_USD\" column\n",
    "df.dropna(subset=['price_USD'], inplace=True)\n",
    "\n",
    "# Drop rows with missing values in the \"seats\" column\n",
    "df.dropna(subset=['seats'], inplace=True)\n",
    "\n",
    "# Drop rows with missing values in the \"engine_capacity\" column\n",
    "df.dropna(subset=['engine_capacity'], inplace=True)\n",
    "\n",
    "# Drop rows with missing values in the \"cylinder\" column\n",
    "df.dropna(subset=['cylinder'], inplace=True)\n",
    "\n",
    "# Drop rows with missing values in the \"horse_power\" column\n",
    "df.dropna(subset=['horse_power'], inplace=True)\n",
    "\n",
    "# Drop rows with missing values in the \"top_speed\" column\n",
    "df.dropna(subset=['top_speed'], inplace=True)\n",
    "\n",
    "df.isnull().sum()"
   ],
   "metadata": {
    "collapsed": false
   }
  },
  {
   "cell_type": "markdown",
   "source": [
    "* The \"count\" values for all columns indicate that there are 4096 non-null entries, suggesting that the previous data cleaning steps successfully removed rows with missing values.\n",
    "\n",
    "* The \"mean\" values provide an estimate of the central tendency of the data. For example, the average engine capacity is around 5.32, the average number of cylinders is approximately 281.43, and the average horsepower is about 221.74.\n",
    "\n",
    "* The \"std\" values represent the standard deviation, which measures the spread or dispersion of the data around the mean. Higher standard deviation values indicate greater variability in the data. For instance, the column with the highest variability appears to be \"seats\" with a standard deviation of approximately 185,915.34.\n",
    "\n",
    "* The \"min\" values represent the lowest values observed in each column, while the \"max\" values indicate the highest values. For example, the minimum engine capacity is 3.0, and the maximum is 16.0.\n",
    "\n",
    "* The \"25%\", \"50%\", and \"75%\" percentiles provide information about the distribution of the data. The 25th percentile (Q1) indicates the value below which 25% of the data falls, the 50th percentile (Q2) represents the median, and the 75th percentile (Q3) indicates the value below which 75% of the data falls. These percentiles help understand the range and distribution of the data.\n",
    "\n",
    "Overall, the descriptive statistics provide insights into the central tendency, variability, and distribution of the numeric columns in the DataFrame. We can further analyze and interpret the statistics to gain a better understanding of the car characteristics and identify any outliers or patterns within the data.\n",
    "Additionally, we can consider visualizing the data using plots and charts to explore relationships and patterns within the dataset."
   ],
   "metadata": {
    "collapsed": false
   }
  },
  {
   "cell_type": "code",
   "execution_count": 8,
   "outputs": [
    {
     "data": {
      "text/plain": "       engine_capacity     cylinder  horse_power    top_speed        seats  \\\ncount      4096.000000  4096.000000  4096.000000  4096.000000  4096.000000   \nmean        111.425049     5.324707   281.428223   221.741699     4.899170   \nstd         470.061157     1.891575   183.297300    42.172588     1.450473   \nmin           0.000000     3.000000    67.000000   120.000000     2.000000   \n25%           2.000000     4.000000   160.000000   185.000000     4.000000   \n50%           2.700000     4.000000   246.000000   215.000000     5.000000   \n75%           4.000000     6.000000   362.000000   250.000000     5.000000   \nmax        6000.000000    16.000000  5050.000000   350.000000    18.000000   \n\n       price_currency     price_USD  \ncount     4096.000000  4.096000e+03  \nmean    142545.509033  6.422920e+04  \nstd     185915.339018  6.494558e+04  \nmin       1000.000000  6.656000e+01  \n25%      17500.000000  2.474364e+04  \n50%      67097.500000  4.382804e+04  \n75%     189022.500000  8.057000e+04  \nmax     997500.000000  1.352825e+06  ",
      "text/html": "<div>\n<style scoped>\n    .dataframe tbody tr th:only-of-type {\n        vertical-align: middle;\n    }\n\n    .dataframe tbody tr th {\n        vertical-align: top;\n    }\n\n    .dataframe thead th {\n        text-align: right;\n    }\n</style>\n<table border=\"1\" class=\"dataframe\">\n  <thead>\n    <tr style=\"text-align: right;\">\n      <th></th>\n      <th>engine_capacity</th>\n      <th>cylinder</th>\n      <th>horse_power</th>\n      <th>top_speed</th>\n      <th>seats</th>\n      <th>price_currency</th>\n      <th>price_USD</th>\n    </tr>\n  </thead>\n  <tbody>\n    <tr>\n      <th>count</th>\n      <td>4096.000000</td>\n      <td>4096.000000</td>\n      <td>4096.000000</td>\n      <td>4096.000000</td>\n      <td>4096.000000</td>\n      <td>4096.000000</td>\n      <td>4.096000e+03</td>\n    </tr>\n    <tr>\n      <th>mean</th>\n      <td>111.425049</td>\n      <td>5.324707</td>\n      <td>281.428223</td>\n      <td>221.741699</td>\n      <td>4.899170</td>\n      <td>142545.509033</td>\n      <td>6.422920e+04</td>\n    </tr>\n    <tr>\n      <th>std</th>\n      <td>470.061157</td>\n      <td>1.891575</td>\n      <td>183.297300</td>\n      <td>42.172588</td>\n      <td>1.450473</td>\n      <td>185915.339018</td>\n      <td>6.494558e+04</td>\n    </tr>\n    <tr>\n      <th>min</th>\n      <td>0.000000</td>\n      <td>3.000000</td>\n      <td>67.000000</td>\n      <td>120.000000</td>\n      <td>2.000000</td>\n      <td>1000.000000</td>\n      <td>6.656000e+01</td>\n    </tr>\n    <tr>\n      <th>25%</th>\n      <td>2.000000</td>\n      <td>4.000000</td>\n      <td>160.000000</td>\n      <td>185.000000</td>\n      <td>4.000000</td>\n      <td>17500.000000</td>\n      <td>2.474364e+04</td>\n    </tr>\n    <tr>\n      <th>50%</th>\n      <td>2.700000</td>\n      <td>4.000000</td>\n      <td>246.000000</td>\n      <td>215.000000</td>\n      <td>5.000000</td>\n      <td>67097.500000</td>\n      <td>4.382804e+04</td>\n    </tr>\n    <tr>\n      <th>75%</th>\n      <td>4.000000</td>\n      <td>6.000000</td>\n      <td>362.000000</td>\n      <td>250.000000</td>\n      <td>5.000000</td>\n      <td>189022.500000</td>\n      <td>8.057000e+04</td>\n    </tr>\n    <tr>\n      <th>max</th>\n      <td>6000.000000</td>\n      <td>16.000000</td>\n      <td>5050.000000</td>\n      <td>350.000000</td>\n      <td>18.000000</td>\n      <td>997500.000000</td>\n      <td>1.352825e+06</td>\n    </tr>\n  </tbody>\n</table>\n</div>"
     },
     "execution_count": 8,
     "metadata": {},
     "output_type": "execute_result"
    }
   ],
   "source": [
    "#descriptive statistics of the DataFrame\n",
    "df.describe()"
   ],
   "metadata": {
    "collapsed": false
   }
  },
  {
   "cell_type": "markdown",
   "source": [
    "After analyzing the initial descriptive statistics using the describe() function, several issues were identified:\n",
    "\n",
    "* Min price in USD: The minimum price in USD was found to be 0, which is not realistic for car prices.\n",
    "\n",
    "* Unreal engine capacity: Some of the engine capacity values were identified to be unrealistic, including extremely high values such as 6000 liters and low values like 0.1 liters (originally 100 milliliters).\n",
    "\n",
    "To address these issues, the following actions were taken:\n",
    "\n",
    "* Price in USD: Rows with a price in USD less than $7000 were filtered out. This helps to remove unrealistic and irrelevant price values.\n",
    "\n",
    "* Engine Capacity: The engine capacity values greater than 100 (originally in milliliters) were updated to represent liters instead.\n",
    "\n",
    "After applying these actions, the DataFrame has been updated to ensure more accurate and meaningful data."
   ],
   "metadata": {
    "collapsed": false
   }
  },
  {
   "cell_type": "code",
   "execution_count": 9,
   "outputs": [
    {
     "data": {
      "text/plain": "                                               car name  engine_capacity  \\\n2                      Suzuki Jimny 2021 1.5L Automatic              1.5   \n5                         Honda HR-V 2021 1.8 i-VTEC EX              1.8   \n8                     Renault Koleos 2021 2.5L LE (4WD)              2.5   \n10                           Suzuki Jimny 2021 1.5L M/T              1.5   \n11                        Honda HR-V 2021 1.8 i-VTEC DX              1.8   \n...                                                 ...              ...   \n6270             Aston Martin DB11 2021 4.0T V8 Volante              4.0   \n6271  BMW M8 Convertible 2021 4.4T V8 Competition xD...              4.4   \n6273          Mercedes-Benz S Class Cabriolet 2021 S 65              6.0   \n6275  BMW M8 Coupe 2021 4.4T V8 Competition xDrive (...              4.4   \n6277                      Lamborghini Urus 2021 4.0T V8              4.0   \n\n      cylinder  horse_power  top_speed  seats          brand country currency  \\\n2          4.0        102.0      145.0    4.0         suzuki     ksa      SAR   \n5          4.0        140.0      190.0    5.0          honda     ksa      SAR   \n8          4.0        170.0      199.0    5.0        renault     ksa      SAR   \n10         4.0        102.0      145.0    4.0         suzuki     ksa      SAR   \n11         4.0        140.0      190.0    5.0          honda     ksa      SAR   \n...        ...          ...        ...    ...            ...     ...      ...   \n6270       8.0        503.0      322.0    4.0   aston-martin     uae      AED   \n6271       8.0        625.0      250.0    4.0            bmw     uae      AED   \n6273      12.0        630.0      250.0    4.0  mercedes-benz     uae      AED   \n6275       8.0        625.0      250.0    4.0            bmw     uae      AED   \n6277       8.0        650.0      305.0    4.0    lamborghini     uae      AED   \n\n      price_currency  price_USD  \n2            98785.0   26671.95  \n5            95335.0   25740.45  \n8           116900.0   31563.00  \n10           91885.0   24808.95  \n11           72335.0   19530.45  \n...              ...        ...  \n6270        945384.0  255253.68  \n6271        930300.0  251181.00  \n6273        980000.0  264600.00  \n6275        905900.0  244593.00  \n6277        997500.0  269325.00  \n\n[3985 rows x 11 columns]",
      "text/html": "<div>\n<style scoped>\n    .dataframe tbody tr th:only-of-type {\n        vertical-align: middle;\n    }\n\n    .dataframe tbody tr th {\n        vertical-align: top;\n    }\n\n    .dataframe thead th {\n        text-align: right;\n    }\n</style>\n<table border=\"1\" class=\"dataframe\">\n  <thead>\n    <tr style=\"text-align: right;\">\n      <th></th>\n      <th>car name</th>\n      <th>engine_capacity</th>\n      <th>cylinder</th>\n      <th>horse_power</th>\n      <th>top_speed</th>\n      <th>seats</th>\n      <th>brand</th>\n      <th>country</th>\n      <th>currency</th>\n      <th>price_currency</th>\n      <th>price_USD</th>\n    </tr>\n  </thead>\n  <tbody>\n    <tr>\n      <th>2</th>\n      <td>Suzuki Jimny 2021 1.5L Automatic</td>\n      <td>1.5</td>\n      <td>4.0</td>\n      <td>102.0</td>\n      <td>145.0</td>\n      <td>4.0</td>\n      <td>suzuki</td>\n      <td>ksa</td>\n      <td>SAR</td>\n      <td>98785.0</td>\n      <td>26671.95</td>\n    </tr>\n    <tr>\n      <th>5</th>\n      <td>Honda HR-V 2021 1.8 i-VTEC EX</td>\n      <td>1.8</td>\n      <td>4.0</td>\n      <td>140.0</td>\n      <td>190.0</td>\n      <td>5.0</td>\n      <td>honda</td>\n      <td>ksa</td>\n      <td>SAR</td>\n      <td>95335.0</td>\n      <td>25740.45</td>\n    </tr>\n    <tr>\n      <th>8</th>\n      <td>Renault Koleos 2021 2.5L LE (4WD)</td>\n      <td>2.5</td>\n      <td>4.0</td>\n      <td>170.0</td>\n      <td>199.0</td>\n      <td>5.0</td>\n      <td>renault</td>\n      <td>ksa</td>\n      <td>SAR</td>\n      <td>116900.0</td>\n      <td>31563.00</td>\n    </tr>\n    <tr>\n      <th>10</th>\n      <td>Suzuki Jimny 2021 1.5L M/T</td>\n      <td>1.5</td>\n      <td>4.0</td>\n      <td>102.0</td>\n      <td>145.0</td>\n      <td>4.0</td>\n      <td>suzuki</td>\n      <td>ksa</td>\n      <td>SAR</td>\n      <td>91885.0</td>\n      <td>24808.95</td>\n    </tr>\n    <tr>\n      <th>11</th>\n      <td>Honda HR-V 2021 1.8 i-VTEC DX</td>\n      <td>1.8</td>\n      <td>4.0</td>\n      <td>140.0</td>\n      <td>190.0</td>\n      <td>5.0</td>\n      <td>honda</td>\n      <td>ksa</td>\n      <td>SAR</td>\n      <td>72335.0</td>\n      <td>19530.45</td>\n    </tr>\n    <tr>\n      <th>...</th>\n      <td>...</td>\n      <td>...</td>\n      <td>...</td>\n      <td>...</td>\n      <td>...</td>\n      <td>...</td>\n      <td>...</td>\n      <td>...</td>\n      <td>...</td>\n      <td>...</td>\n      <td>...</td>\n    </tr>\n    <tr>\n      <th>6270</th>\n      <td>Aston Martin DB11 2021 4.0T V8 Volante</td>\n      <td>4.0</td>\n      <td>8.0</td>\n      <td>503.0</td>\n      <td>322.0</td>\n      <td>4.0</td>\n      <td>aston-martin</td>\n      <td>uae</td>\n      <td>AED</td>\n      <td>945384.0</td>\n      <td>255253.68</td>\n    </tr>\n    <tr>\n      <th>6271</th>\n      <td>BMW M8 Convertible 2021 4.4T V8 Competition xD...</td>\n      <td>4.4</td>\n      <td>8.0</td>\n      <td>625.0</td>\n      <td>250.0</td>\n      <td>4.0</td>\n      <td>bmw</td>\n      <td>uae</td>\n      <td>AED</td>\n      <td>930300.0</td>\n      <td>251181.00</td>\n    </tr>\n    <tr>\n      <th>6273</th>\n      <td>Mercedes-Benz S Class Cabriolet 2021 S 65</td>\n      <td>6.0</td>\n      <td>12.0</td>\n      <td>630.0</td>\n      <td>250.0</td>\n      <td>4.0</td>\n      <td>mercedes-benz</td>\n      <td>uae</td>\n      <td>AED</td>\n      <td>980000.0</td>\n      <td>264600.00</td>\n    </tr>\n    <tr>\n      <th>6275</th>\n      <td>BMW M8 Coupe 2021 4.4T V8 Competition xDrive (...</td>\n      <td>4.4</td>\n      <td>8.0</td>\n      <td>625.0</td>\n      <td>250.0</td>\n      <td>4.0</td>\n      <td>bmw</td>\n      <td>uae</td>\n      <td>AED</td>\n      <td>905900.0</td>\n      <td>244593.00</td>\n    </tr>\n    <tr>\n      <th>6277</th>\n      <td>Lamborghini Urus 2021 4.0T V8</td>\n      <td>4.0</td>\n      <td>8.0</td>\n      <td>650.0</td>\n      <td>305.0</td>\n      <td>4.0</td>\n      <td>lamborghini</td>\n      <td>uae</td>\n      <td>AED</td>\n      <td>997500.0</td>\n      <td>269325.00</td>\n    </tr>\n  </tbody>\n</table>\n<p>3985 rows × 11 columns</p>\n</div>"
     },
     "execution_count": 9,
     "metadata": {},
     "output_type": "execute_result"
    }
   ],
   "source": [
    "# Update engine capacity values greater than 100 to represent liters instead of milliliters\n",
    "df.loc[df['engine_capacity'] > 100, 'engine_capacity'] = (df['engine_capacity'] / 1000).round(1)\n",
    "\n",
    "# Filter the DataFrame to keep rows with engine_capacity greater than or equal to 1\n",
    "df = df.loc[df['engine_capacity'] >= 1]\n",
    "\n",
    "# Filter the DataFrame to keep rows with price_USD greater than or equal to 7000\n",
    "df = df.loc[df['price_USD'] >= 7000]\n",
    "\n",
    "df"
   ],
   "metadata": {
    "collapsed": false
   }
  },
  {
   "cell_type": "markdown",
   "source": [
    "Overall, the DataFrame has been refined, and the columns now contain meaningful and cleaned data without missing values."
   ],
   "metadata": {
    "collapsed": false
   }
  },
  {
   "cell_type": "code",
   "execution_count": 10,
   "outputs": [
    {
     "name": "stdout",
     "output_type": "stream",
     "text": [
      "<class 'pandas.core.frame.DataFrame'>\n",
      "Int64Index: 3985 entries, 2 to 6277\n",
      "Data columns (total 11 columns):\n",
      " #   Column           Non-Null Count  Dtype  \n",
      "---  ------           --------------  -----  \n",
      " 0   car name         3985 non-null   object \n",
      " 1   engine_capacity  3985 non-null   float64\n",
      " 2   cylinder         3985 non-null   float64\n",
      " 3   horse_power      3985 non-null   float64\n",
      " 4   top_speed        3985 non-null   float64\n",
      " 5   seats            3985 non-null   float64\n",
      " 6   brand            3985 non-null   object \n",
      " 7   country          3985 non-null   object \n",
      " 8   currency         3985 non-null   object \n",
      " 9   price_currency   3985 non-null   float64\n",
      " 10  price_USD        3985 non-null   float64\n",
      "dtypes: float64(7), object(4)\n",
      "memory usage: 373.6+ KB\n"
     ]
    }
   ],
   "source": [
    "df.info()"
   ],
   "metadata": {
    "collapsed": false
   }
  },
  {
   "cell_type": "markdown",
   "source": [
    "The data has undergone several modifications to address missing values, incorrect units, and unrealistic values."
   ],
   "metadata": {
    "collapsed": false
   }
  },
  {
   "cell_type": "code",
   "execution_count": 11,
   "outputs": [
    {
     "data": {
      "text/plain": "       engine_capacity     cylinder  horse_power    top_speed        seats  \\\ncount      3985.000000  3985.000000  3985.000000  3985.000000  3985.000000   \nmean          2.798695     5.251192   273.258218   220.163614     4.929987   \nstd           1.282833     1.789188   143.585508    40.958960     1.443329   \nmin           1.000000     3.000000    67.000000   120.000000     2.000000   \n25%           2.000000     4.000000   156.000000   185.000000     4.000000   \n50%           2.500000     4.000000   245.000000   211.000000     5.000000   \n75%           3.500000     6.000000   355.000000   250.000000     5.000000   \nmax           6.800000    12.000000   800.000000   350.000000    18.000000   \n\n       price_currency     price_USD  \ncount     3985.000000  3.985000e+03  \nmean    146029.246675  6.586476e+04  \nstd     186791.351522  6.496436e+04  \nmin       2899.000000  7.800000e+03  \n25%      18900.000000  2.600000e+04  \n50%      70999.000000  4.544000e+04  \n75%     194535.000000  8.241750e+04  \nmax     997500.000000  1.352825e+06  ",
      "text/html": "<div>\n<style scoped>\n    .dataframe tbody tr th:only-of-type {\n        vertical-align: middle;\n    }\n\n    .dataframe tbody tr th {\n        vertical-align: top;\n    }\n\n    .dataframe thead th {\n        text-align: right;\n    }\n</style>\n<table border=\"1\" class=\"dataframe\">\n  <thead>\n    <tr style=\"text-align: right;\">\n      <th></th>\n      <th>engine_capacity</th>\n      <th>cylinder</th>\n      <th>horse_power</th>\n      <th>top_speed</th>\n      <th>seats</th>\n      <th>price_currency</th>\n      <th>price_USD</th>\n    </tr>\n  </thead>\n  <tbody>\n    <tr>\n      <th>count</th>\n      <td>3985.000000</td>\n      <td>3985.000000</td>\n      <td>3985.000000</td>\n      <td>3985.000000</td>\n      <td>3985.000000</td>\n      <td>3985.000000</td>\n      <td>3.985000e+03</td>\n    </tr>\n    <tr>\n      <th>mean</th>\n      <td>2.798695</td>\n      <td>5.251192</td>\n      <td>273.258218</td>\n      <td>220.163614</td>\n      <td>4.929987</td>\n      <td>146029.246675</td>\n      <td>6.586476e+04</td>\n    </tr>\n    <tr>\n      <th>std</th>\n      <td>1.282833</td>\n      <td>1.789188</td>\n      <td>143.585508</td>\n      <td>40.958960</td>\n      <td>1.443329</td>\n      <td>186791.351522</td>\n      <td>6.496436e+04</td>\n    </tr>\n    <tr>\n      <th>min</th>\n      <td>1.000000</td>\n      <td>3.000000</td>\n      <td>67.000000</td>\n      <td>120.000000</td>\n      <td>2.000000</td>\n      <td>2899.000000</td>\n      <td>7.800000e+03</td>\n    </tr>\n    <tr>\n      <th>25%</th>\n      <td>2.000000</td>\n      <td>4.000000</td>\n      <td>156.000000</td>\n      <td>185.000000</td>\n      <td>4.000000</td>\n      <td>18900.000000</td>\n      <td>2.600000e+04</td>\n    </tr>\n    <tr>\n      <th>50%</th>\n      <td>2.500000</td>\n      <td>4.000000</td>\n      <td>245.000000</td>\n      <td>211.000000</td>\n      <td>5.000000</td>\n      <td>70999.000000</td>\n      <td>4.544000e+04</td>\n    </tr>\n    <tr>\n      <th>75%</th>\n      <td>3.500000</td>\n      <td>6.000000</td>\n      <td>355.000000</td>\n      <td>250.000000</td>\n      <td>5.000000</td>\n      <td>194535.000000</td>\n      <td>8.241750e+04</td>\n    </tr>\n    <tr>\n      <th>max</th>\n      <td>6.800000</td>\n      <td>12.000000</td>\n      <td>800.000000</td>\n      <td>350.000000</td>\n      <td>18.000000</td>\n      <td>997500.000000</td>\n      <td>1.352825e+06</td>\n    </tr>\n  </tbody>\n</table>\n</div>"
     },
     "execution_count": 11,
     "metadata": {},
     "output_type": "execute_result"
    }
   ],
   "source": [
    "df.describe()"
   ],
   "metadata": {
    "collapsed": false
   }
  },
  {
   "cell_type": "markdown",
   "source": [
    "After checking for duplicates in the 'car name' column, it appears that there are multiple entries with the same car name. However, upon further analysis, it can be observed that these duplicates correspond to different countries. Each car name is associated with a specific country, and the duplicates arise from having the same car model available in multiple countries.\n",
    "\n",
    "For example, the car model \"Peugeot 5008 2021 1.6T Active\" appears 7 times, but each entry corresponds to a different country. The same pattern is observed for other car models as well.\n",
    "\n",
    "Therefore, having duplicates in the 'car name' column is acceptable in this dataset since the duplicates represent the same car model available in different countries."
   ],
   "metadata": {
    "collapsed": false
   }
  },
  {
   "cell_type": "code",
   "execution_count": 12,
   "outputs": [
    {
     "data": {
      "text/plain": "Peugeot 5008 2021 1.6T Active                  7\nSuzuki Ertiga 2021 1.5L GLX                    7\nMini Hatch 2021 5-Door Cooper                  7\nMini Hatch 2021 3-Door Cooper S                6\nMercedes-Benz GLA 2021 250 4MATIC              6\n                                              ..\nCitroen C3 Aircross 2021 1.2T Feel             2\nCitroen C3 Aircross 2021 1.2T Live             2\nCitroen C3 Aircross 2021 1.2T Shine            2\nBMW X2 2021 sDrive20i (M sport X package)      2\nChangan CS95 2022 2.0T Royal (7-Seater) AWD    2\nName: car name, Length: 935, dtype: int64"
     },
     "execution_count": 12,
     "metadata": {},
     "output_type": "execute_result"
    }
   ],
   "source": [
    "#check duplicates\n",
    "df[df.duplicated(subset='car name', keep=False)]['car name'].value_counts()"
   ],
   "metadata": {
    "collapsed": false
   }
  },
  {
   "cell_type": "markdown",
   "source": [
    "The wrangling is done.\n",
    "The cleaned DataFrame has been saved to the CSV file 'wrangled_cars.csv' without including the index column."
   ],
   "metadata": {
    "collapsed": false
   }
  },
  {
   "cell_type": "code",
   "execution_count": 13,
   "outputs": [
    {
     "data": {
      "text/plain": "                                               car name  engine_capacity  \\\n2                      Suzuki Jimny 2021 1.5L Automatic              1.5   \n5                         Honda HR-V 2021 1.8 i-VTEC EX              1.8   \n8                     Renault Koleos 2021 2.5L LE (4WD)              2.5   \n10                           Suzuki Jimny 2021 1.5L M/T              1.5   \n11                        Honda HR-V 2021 1.8 i-VTEC DX              1.8   \n...                                                 ...              ...   \n6270             Aston Martin DB11 2021 4.0T V8 Volante              4.0   \n6271  BMW M8 Convertible 2021 4.4T V8 Competition xD...              4.4   \n6273          Mercedes-Benz S Class Cabriolet 2021 S 65              6.0   \n6275  BMW M8 Coupe 2021 4.4T V8 Competition xDrive (...              4.4   \n6277                      Lamborghini Urus 2021 4.0T V8              4.0   \n\n      cylinder  horse_power  top_speed  seats          brand country currency  \\\n2          4.0        102.0      145.0    4.0         suzuki     ksa      SAR   \n5          4.0        140.0      190.0    5.0          honda     ksa      SAR   \n8          4.0        170.0      199.0    5.0        renault     ksa      SAR   \n10         4.0        102.0      145.0    4.0         suzuki     ksa      SAR   \n11         4.0        140.0      190.0    5.0          honda     ksa      SAR   \n...        ...          ...        ...    ...            ...     ...      ...   \n6270       8.0        503.0      322.0    4.0   aston-martin     uae      AED   \n6271       8.0        625.0      250.0    4.0            bmw     uae      AED   \n6273      12.0        630.0      250.0    4.0  mercedes-benz     uae      AED   \n6275       8.0        625.0      250.0    4.0            bmw     uae      AED   \n6277       8.0        650.0      305.0    4.0    lamborghini     uae      AED   \n\n      price_currency  price_USD  \n2            98785.0   26671.95  \n5            95335.0   25740.45  \n8           116900.0   31563.00  \n10           91885.0   24808.95  \n11           72335.0   19530.45  \n...              ...        ...  \n6270        945384.0  255253.68  \n6271        930300.0  251181.00  \n6273        980000.0  264600.00  \n6275        905900.0  244593.00  \n6277        997500.0  269325.00  \n\n[3985 rows x 11 columns]",
      "text/html": "<div>\n<style scoped>\n    .dataframe tbody tr th:only-of-type {\n        vertical-align: middle;\n    }\n\n    .dataframe tbody tr th {\n        vertical-align: top;\n    }\n\n    .dataframe thead th {\n        text-align: right;\n    }\n</style>\n<table border=\"1\" class=\"dataframe\">\n  <thead>\n    <tr style=\"text-align: right;\">\n      <th></th>\n      <th>car name</th>\n      <th>engine_capacity</th>\n      <th>cylinder</th>\n      <th>horse_power</th>\n      <th>top_speed</th>\n      <th>seats</th>\n      <th>brand</th>\n      <th>country</th>\n      <th>currency</th>\n      <th>price_currency</th>\n      <th>price_USD</th>\n    </tr>\n  </thead>\n  <tbody>\n    <tr>\n      <th>2</th>\n      <td>Suzuki Jimny 2021 1.5L Automatic</td>\n      <td>1.5</td>\n      <td>4.0</td>\n      <td>102.0</td>\n      <td>145.0</td>\n      <td>4.0</td>\n      <td>suzuki</td>\n      <td>ksa</td>\n      <td>SAR</td>\n      <td>98785.0</td>\n      <td>26671.95</td>\n    </tr>\n    <tr>\n      <th>5</th>\n      <td>Honda HR-V 2021 1.8 i-VTEC EX</td>\n      <td>1.8</td>\n      <td>4.0</td>\n      <td>140.0</td>\n      <td>190.0</td>\n      <td>5.0</td>\n      <td>honda</td>\n      <td>ksa</td>\n      <td>SAR</td>\n      <td>95335.0</td>\n      <td>25740.45</td>\n    </tr>\n    <tr>\n      <th>8</th>\n      <td>Renault Koleos 2021 2.5L LE (4WD)</td>\n      <td>2.5</td>\n      <td>4.0</td>\n      <td>170.0</td>\n      <td>199.0</td>\n      <td>5.0</td>\n      <td>renault</td>\n      <td>ksa</td>\n      <td>SAR</td>\n      <td>116900.0</td>\n      <td>31563.00</td>\n    </tr>\n    <tr>\n      <th>10</th>\n      <td>Suzuki Jimny 2021 1.5L M/T</td>\n      <td>1.5</td>\n      <td>4.0</td>\n      <td>102.0</td>\n      <td>145.0</td>\n      <td>4.0</td>\n      <td>suzuki</td>\n      <td>ksa</td>\n      <td>SAR</td>\n      <td>91885.0</td>\n      <td>24808.95</td>\n    </tr>\n    <tr>\n      <th>11</th>\n      <td>Honda HR-V 2021 1.8 i-VTEC DX</td>\n      <td>1.8</td>\n      <td>4.0</td>\n      <td>140.0</td>\n      <td>190.0</td>\n      <td>5.0</td>\n      <td>honda</td>\n      <td>ksa</td>\n      <td>SAR</td>\n      <td>72335.0</td>\n      <td>19530.45</td>\n    </tr>\n    <tr>\n      <th>...</th>\n      <td>...</td>\n      <td>...</td>\n      <td>...</td>\n      <td>...</td>\n      <td>...</td>\n      <td>...</td>\n      <td>...</td>\n      <td>...</td>\n      <td>...</td>\n      <td>...</td>\n      <td>...</td>\n    </tr>\n    <tr>\n      <th>6270</th>\n      <td>Aston Martin DB11 2021 4.0T V8 Volante</td>\n      <td>4.0</td>\n      <td>8.0</td>\n      <td>503.0</td>\n      <td>322.0</td>\n      <td>4.0</td>\n      <td>aston-martin</td>\n      <td>uae</td>\n      <td>AED</td>\n      <td>945384.0</td>\n      <td>255253.68</td>\n    </tr>\n    <tr>\n      <th>6271</th>\n      <td>BMW M8 Convertible 2021 4.4T V8 Competition xD...</td>\n      <td>4.4</td>\n      <td>8.0</td>\n      <td>625.0</td>\n      <td>250.0</td>\n      <td>4.0</td>\n      <td>bmw</td>\n      <td>uae</td>\n      <td>AED</td>\n      <td>930300.0</td>\n      <td>251181.00</td>\n    </tr>\n    <tr>\n      <th>6273</th>\n      <td>Mercedes-Benz S Class Cabriolet 2021 S 65</td>\n      <td>6.0</td>\n      <td>12.0</td>\n      <td>630.0</td>\n      <td>250.0</td>\n      <td>4.0</td>\n      <td>mercedes-benz</td>\n      <td>uae</td>\n      <td>AED</td>\n      <td>980000.0</td>\n      <td>264600.00</td>\n    </tr>\n    <tr>\n      <th>6275</th>\n      <td>BMW M8 Coupe 2021 4.4T V8 Competition xDrive (...</td>\n      <td>4.4</td>\n      <td>8.0</td>\n      <td>625.0</td>\n      <td>250.0</td>\n      <td>4.0</td>\n      <td>bmw</td>\n      <td>uae</td>\n      <td>AED</td>\n      <td>905900.0</td>\n      <td>244593.00</td>\n    </tr>\n    <tr>\n      <th>6277</th>\n      <td>Lamborghini Urus 2021 4.0T V8</td>\n      <td>4.0</td>\n      <td>8.0</td>\n      <td>650.0</td>\n      <td>305.0</td>\n      <td>4.0</td>\n      <td>lamborghini</td>\n      <td>uae</td>\n      <td>AED</td>\n      <td>997500.0</td>\n      <td>269325.00</td>\n    </tr>\n  </tbody>\n</table>\n<p>3985 rows × 11 columns</p>\n</div>"
     },
     "execution_count": 13,
     "metadata": {},
     "output_type": "execute_result"
    }
   ],
   "source": [
    "# Save the DataFrame to a CSV file without including the index column\n",
    "df.to_csv('wrangled_cars.csv', index=False)\n",
    "df"
   ],
   "metadata": {
    "collapsed": false
   }
  },
  {
   "cell_type": "markdown",
   "source": [
    "# Summary\n",
    "\n",
    "We inspected the dataset and found that it had 6,277 rows and 11 columns. We noticed missing values in some columns and decided to drop those rows to ensure data integrity. Afterward, we proceeded with data type conversions to ensure the appropriate data types for each column.\n",
    "\n",
    "During the cleaning process, we identified and handled duplicates in the dataset, specifically focusing on the \"car name\" column. We discovered several cars with the same name but different specifications, likely due to different models or years. Since the quantity of duplicates for each car name did not exceed 7, which corresponds to the number of countries represented in the dataset, we concluded that this duplication was acceptable.\n",
    "\n",
    "Additionally, we performed some basic descriptive statistics on the dataset, providing insights into the distribution and range of values for numeric columns. This allowed us to get a better understanding of the dataset's characteristics.\n",
    "\n",
    "Finally, we saved the cleaned dataset to a CSV file named 'wrangled_cars.csv', excluding the index column to maintain a clean and organized structure.\n",
    "\n",
    "In summary, our work involved cleaning and wrangling the car dataset, which consisted of removing missing values, converting data types, handling duplicates, and performing basic descriptive statistics. The resulting dataset is now ready for further analysis and exploration of various factors related to car specifications, brands, countries, and prices."
   ],
   "metadata": {
    "collapsed": false
   }
  },
  {
   "cell_type": "markdown",
   "source": [],
   "metadata": {
    "collapsed": false
   }
  }
 ],
 "metadata": {
  "kernelspec": {
   "display_name": "Python 3",
   "language": "python",
   "name": "python3"
  },
  "language_info": {
   "codemirror_mode": {
    "name": "ipython",
    "version": 2
   },
   "file_extension": ".py",
   "mimetype": "text/x-python",
   "name": "python",
   "nbconvert_exporter": "python",
   "pygments_lexer": "ipython2",
   "version": "2.7.6"
  }
 },
 "nbformat": 4,
 "nbformat_minor": 0
}
